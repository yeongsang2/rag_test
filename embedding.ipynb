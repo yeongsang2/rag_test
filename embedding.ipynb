{
 "cells": [
  {
   "cell_type": "code",
   "execution_count": 2,
   "id": "8f66b428",
   "metadata": {},
   "outputs": [],
   "source": [
    "import json\n",
    "from pathlib import Path\n",
    "from pprint import pprint\n",
    "\n",
    "\n",
    "file_path='data_medical.json'\n",
    "data = json.loads(Path(file_path).read_text())\n",
    "\n",
    "qa_list = []\n",
    "for d in data:\n",
    "    statement = \"question : {}  answer : {}\".format(d['instruction'], d['output'])\n",
    "    qa_list.append(statement)"
   ]
  },
  {
   "cell_type": "code",
   "execution_count": 3,
   "id": "04f6b502",
   "metadata": {
    "scrolled": true
   },
   "outputs": [
    {
     "data": {
      "text/html": [
       "<div>\n",
       "<style scoped>\n",
       "    .dataframe tbody tr th:only-of-type {\n",
       "        vertical-align: middle;\n",
       "    }\n",
       "\n",
       "    .dataframe tbody tr th {\n",
       "        vertical-align: top;\n",
       "    }\n",
       "\n",
       "    .dataframe thead th {\n",
       "        text-align: right;\n",
       "    }\n",
       "</style>\n",
       "<table border=\"1\" class=\"dataframe\">\n",
       "  <thead>\n",
       "    <tr style=\"text-align: right;\">\n",
       "      <th></th>\n",
       "      <th>question</th>\n",
       "      <th>answer</th>\n",
       "    </tr>\n",
       "  </thead>\n",
       "  <tbody>\n",
       "    <tr>\n",
       "      <th>0</th>\n",
       "      <td>전립선은 여성에도 있나요?</td>\n",
       "      <td>아닙니다. 전립선은 남성에게만 있는 생식기관 입니다</td>\n",
       "    </tr>\n",
       "    <tr>\n",
       "      <th>1</th>\n",
       "      <td>전립선은 남성에만 있나요?</td>\n",
       "      <td>맞습니다. 전립선은 남성에게만 있는 생식기관 입니다</td>\n",
       "    </tr>\n",
       "    <tr>\n",
       "      <th>2</th>\n",
       "      <td>전립선은?</td>\n",
       "      <td>전립선은 방광 바로 밑, 직장(直腸) 앞쪽에 있는 밤톨만 한 크기의 남성 생식기관으...</td>\n",
       "    </tr>\n",
       "    <tr>\n",
       "      <th>3</th>\n",
       "      <td>전립선이 무엇인가요?</td>\n",
       "      <td>정상 성인의 전립선은 20g 가량의 호두알 정도 크기의 기관으로 방광의 아래쪽, 직...</td>\n",
       "    </tr>\n",
       "    <tr>\n",
       "      <th>4</th>\n",
       "      <td>전립선이란?</td>\n",
       "      <td>전립선은 방광과 요도 사이에 위치하는 밤알 정도 크기의 생식샘으로 정액에 일부 성분...</td>\n",
       "    </tr>\n",
       "  </tbody>\n",
       "</table>\n",
       "</div>"
      ],
      "text/plain": [
       "          question                                             answer\n",
       "0  전립선은 여성에도 있나요?                        아닙니다. 전립선은 남성에게만 있는 생식기관 입니다\n",
       "1  전립선은 남성에만 있나요?                        맞습니다. 전립선은 남성에게만 있는 생식기관 입니다\n",
       "2           전립선은?   전립선은 방광 바로 밑, 직장(直腸) 앞쪽에 있는 밤톨만 한 크기의 남성 생식기관으...\n",
       "3     전립선이 무엇인가요?   정상 성인의 전립선은 20g 가량의 호두알 정도 크기의 기관으로 방광의 아래쪽, 직...\n",
       "4          전립선이란?   전립선은 방광과 요도 사이에 위치하는 밤알 정도 크기의 생식샘으로 정액에 일부 성분..."
      ]
     },
     "execution_count": 3,
     "metadata": {},
     "output_type": "execute_result"
    }
   ],
   "source": [
    "import pandas as pd\n",
    "df = pd.read_json('data_medical.json')\n",
    "df.rename(columns={'instruction': 'question', 'output':'answer'}, inplace=True)\n",
    "df.head()"
   ]
  },
  {
   "cell_type": "code",
   "execution_count": 4,
   "id": "71ea25bc",
   "metadata": {},
   "outputs": [
    {
     "name": "stdout",
     "output_type": "stream",
     "text": [
      ""
     ]
    }
   ],
   "source": [
    "import openai\n",
    "import os\n",
    "from dotenv import load_dotenv\n",
    "load_dotenv()\n",
    "\n",
    "OPENAI_API_KEY = os.getenv(\"OPENAI_API_KEY\", \"\")\n",
    "OPENAI_TEMPERATURE = float(os.getenv(\"OPENAI_TEMPERATURE\", 0.0))\n",
    "\n",
    "\n",
    "openai.api_key = OPENAI_API_KEY\n",
    "print(OPENAI_API_KEY)"
   ]
  },
  {
   "cell_type": "code",
   "execution_count": 5,
   "id": "f68c2ddf",
   "metadata": {},
   "outputs": [],
   "source": [
    "df = df.dropna(how='any', axis= 0)"
   ]
  },
  {
   "cell_type": "code",
   "execution_count": 7,
   "id": "d2042fcf",
   "metadata": {},
   "outputs": [
    {
     "name": "stderr",
     "output_type": "stream",
     "text": [
      "0it [00:00, ?it/s]\n",
      "TqdmDeprecationWarning: Please use `tqdm.pandas(...)` instead of `tqdm_pandas(tqdm(...))`.\n"
     ]
    },
    {
     "data": {
      "text/html": [
       "<div>\n",
       "<style scoped>\n",
       "    .dataframe tbody tr th:only-of-type {\n",
       "        vertical-align: middle;\n",
       "    }\n",
       "\n",
       "    .dataframe tbody tr th {\n",
       "        vertical-align: top;\n",
       "    }\n",
       "\n",
       "    .dataframe thead th {\n",
       "        text-align: right;\n",
       "    }\n",
       "</style>\n",
       "<table border=\"1\" class=\"dataframe\">\n",
       "  <thead>\n",
       "    <tr style=\"text-align: right;\">\n",
       "      <th></th>\n",
       "      <th>question</th>\n",
       "      <th>answer</th>\n",
       "      <th>question_vector</th>\n",
       "      <th>answer_vector</th>\n",
       "    </tr>\n",
       "  </thead>\n",
       "  <tbody>\n",
       "    <tr>\n",
       "      <th>0</th>\n",
       "      <td>전립선은 여성에도 있나요?</td>\n",
       "      <td>아닙니다. 전립선은 남성에게만 있는 생식기관 입니다</td>\n",
       "      <td>[-0.012017258442938328, -0.03106275387108326, ...</td>\n",
       "      <td>[-0.00876571238040924, -0.01925969123840332, 0...</td>\n",
       "    </tr>\n",
       "    <tr>\n",
       "      <th>1</th>\n",
       "      <td>전립선은 남성에만 있나요?</td>\n",
       "      <td>맞습니다. 전립선은 남성에게만 있는 생식기관 입니다</td>\n",
       "      <td>[-0.007469899486750364, -0.027836550027132034,...</td>\n",
       "      <td>[-0.00971006229519844, -0.02496306225657463, 0...</td>\n",
       "    </tr>\n",
       "    <tr>\n",
       "      <th>2</th>\n",
       "      <td>전립선은?</td>\n",
       "      <td>전립선은 방광 바로 밑, 직장(直腸) 앞쪽에 있는 밤톨만 한 크기의 남성 생식기관으...</td>\n",
       "      <td>[0.005338818766176701, -0.026521461084485054, ...</td>\n",
       "      <td>[-0.006054476369172335, -0.010293284431099892,...</td>\n",
       "    </tr>\n",
       "    <tr>\n",
       "      <th>3</th>\n",
       "      <td>전립선이 무엇인가요?</td>\n",
       "      <td>정상 성인의 전립선은 20g 가량의 호두알 정도 크기의 기관으로 방광의 아래쪽, 직...</td>\n",
       "      <td>[0.004732365719974041, -0.01961228810250759, 0...</td>\n",
       "      <td>[-0.004071803297847509, -0.0005756918690167367...</td>\n",
       "    </tr>\n",
       "    <tr>\n",
       "      <th>4</th>\n",
       "      <td>전립선이란?</td>\n",
       "      <td>전립선은 방광과 요도 사이에 위치하는 밤알 정도 크기의 생식샘으로 정액에 일부 성분...</td>\n",
       "      <td>[-0.0030415847431868315, -0.019522881135344505...</td>\n",
       "      <td>[0.011263073422014713, -0.003701198846101761, ...</td>\n",
       "    </tr>\n",
       "  </tbody>\n",
       "</table>\n",
       "</div>"
      ],
      "text/plain": [
       "          question                                             answer  \\\n",
       "0  전립선은 여성에도 있나요?                        아닙니다. 전립선은 남성에게만 있는 생식기관 입니다   \n",
       "1  전립선은 남성에만 있나요?                        맞습니다. 전립선은 남성에게만 있는 생식기관 입니다   \n",
       "2           전립선은?   전립선은 방광 바로 밑, 직장(直腸) 앞쪽에 있는 밤톨만 한 크기의 남성 생식기관으...   \n",
       "3     전립선이 무엇인가요?   정상 성인의 전립선은 20g 가량의 호두알 정도 크기의 기관으로 방광의 아래쪽, 직...   \n",
       "4          전립선이란?   전립선은 방광과 요도 사이에 위치하는 밤알 정도 크기의 생식샘으로 정액에 일부 성분...   \n",
       "\n",
       "                                     question_vector  \\\n",
       "0  [-0.012017258442938328, -0.03106275387108326, ...   \n",
       "1  [-0.007469899486750364, -0.027836550027132034,...   \n",
       "2  [0.005338818766176701, -0.026521461084485054, ...   \n",
       "3  [0.004732365719974041, -0.01961228810250759, 0...   \n",
       "4  [-0.0030415847431868315, -0.019522881135344505...   \n",
       "\n",
       "                                       answer_vector  \n",
       "0  [-0.00876571238040924, -0.01925969123840332, 0...  \n",
       "1  [-0.00971006229519844, -0.02496306225657463, 0...  \n",
       "2  [-0.006054476369172335, -0.010293284431099892,...  \n",
       "3  [-0.004071803297847509, -0.0005756918690167367...  \n",
       "4  [0.011263073422014713, -0.003701198846101761, ...  "
      ]
     },
     "execution_count": 7,
     "metadata": {},
     "output_type": "execute_result"
    }
   ],
   "source": [
    "from tqdm import tqdm, tqdm_pandas\n",
    "tqdm_pandas(tqdm())\n",
    "\n",
    "def get_embedding(text, model=\"text-embedding-ada-002\"):\n",
    "   return openai.Embedding.create(input = [text], model=model)['data'][0]['embedding']\n",
    "\n",
    "df['question_vector'] = df.question.apply(lambda x: get_embedding(x, model='text-embedding-ada-002'))\n",
    "df['answer_vector'] = df.answer.apply(lambda x: get_embedding(x, model='text-embedding-ada-002'))\n",
    "df.head()"
   ]
  },
  {
   "cell_type": "code",
   "execution_count": 14,
   "id": "7e581c27",
   "metadata": {},
   "outputs": [
    {
     "data": {
      "text/html": [
       "<div>\n",
       "<style scoped>\n",
       "    .dataframe tbody tr th:only-of-type {\n",
       "        vertical-align: middle;\n",
       "    }\n",
       "\n",
       "    .dataframe tbody tr th {\n",
       "        vertical-align: top;\n",
       "    }\n",
       "\n",
       "    .dataframe thead th {\n",
       "        text-align: right;\n",
       "    }\n",
       "</style>\n",
       "<table border=\"1\" class=\"dataframe\">\n",
       "  <thead>\n",
       "    <tr style=\"text-align: right;\">\n",
       "      <th></th>\n",
       "      <th>question</th>\n",
       "      <th>answer</th>\n",
       "      <th>question_vector</th>\n",
       "      <th>answer_vector</th>\n",
       "    </tr>\n",
       "  </thead>\n",
       "  <tbody>\n",
       "    <tr>\n",
       "      <th>0</th>\n",
       "      <td>전립선은 여성에도 있나요?</td>\n",
       "      <td>아닙니다. 전립선은 남성에게만 있는 생식기관 입니다</td>\n",
       "      <td>[-0.012017258442938328, -0.03106275387108326, ...</td>\n",
       "      <td>[-0.00876571238040924, -0.01925969123840332, 0...</td>\n",
       "    </tr>\n",
       "    <tr>\n",
       "      <th>1</th>\n",
       "      <td>전립선은 남성에만 있나요?</td>\n",
       "      <td>맞습니다. 전립선은 남성에게만 있는 생식기관 입니다</td>\n",
       "      <td>[-0.007469899486750364, -0.027836550027132034,...</td>\n",
       "      <td>[-0.00971006229519844, -0.02496306225657463, 0...</td>\n",
       "    </tr>\n",
       "    <tr>\n",
       "      <th>2</th>\n",
       "      <td>전립선은?</td>\n",
       "      <td>전립선은 방광 바로 밑, 직장(直腸) 앞쪽에 있는 밤톨만 한 크기의 남성 생식기관으...</td>\n",
       "      <td>[0.005338818766176701, -0.026521461084485054, ...</td>\n",
       "      <td>[-0.006054476369172335, -0.010293284431099892,...</td>\n",
       "    </tr>\n",
       "    <tr>\n",
       "      <th>3</th>\n",
       "      <td>전립선이 무엇인가요?</td>\n",
       "      <td>정상 성인의 전립선은 20g 가량의 호두알 정도 크기의 기관으로 방광의 아래쪽, 직...</td>\n",
       "      <td>[0.004732365719974041, -0.01961228810250759, 0...</td>\n",
       "      <td>[-0.004071803297847509, -0.0005756918690167367...</td>\n",
       "    </tr>\n",
       "    <tr>\n",
       "      <th>4</th>\n",
       "      <td>전립선이란?</td>\n",
       "      <td>전립선은 방광과 요도 사이에 위치하는 밤알 정도 크기의 생식샘으로 정액에 일부 성분...</td>\n",
       "      <td>[-0.0030415847431868315, -0.019522881135344505...</td>\n",
       "      <td>[0.011263073422014713, -0.003701198846101761, ...</td>\n",
       "    </tr>\n",
       "  </tbody>\n",
       "</table>\n",
       "</div>"
      ],
      "text/plain": [
       "          question                                             answer  \\\n",
       "0  전립선은 여성에도 있나요?                        아닙니다. 전립선은 남성에게만 있는 생식기관 입니다   \n",
       "1  전립선은 남성에만 있나요?                        맞습니다. 전립선은 남성에게만 있는 생식기관 입니다   \n",
       "2           전립선은?   전립선은 방광 바로 밑, 직장(直腸) 앞쪽에 있는 밤톨만 한 크기의 남성 생식기관으...   \n",
       "3     전립선이 무엇인가요?   정상 성인의 전립선은 20g 가량의 호두알 정도 크기의 기관으로 방광의 아래쪽, 직...   \n",
       "4          전립선이란?   전립선은 방광과 요도 사이에 위치하는 밤알 정도 크기의 생식샘으로 정액에 일부 성분...   \n",
       "\n",
       "                                     question_vector  \\\n",
       "0  [-0.012017258442938328, -0.03106275387108326, ...   \n",
       "1  [-0.007469899486750364, -0.027836550027132034,...   \n",
       "2  [0.005338818766176701, -0.026521461084485054, ...   \n",
       "3  [0.004732365719974041, -0.01961228810250759, 0...   \n",
       "4  [-0.0030415847431868315, -0.019522881135344505...   \n",
       "\n",
       "                                       answer_vector  \n",
       "0  [-0.00876571238040924, -0.01925969123840332, 0...  \n",
       "1  [-0.00971006229519844, -0.02496306225657463, 0...  \n",
       "2  [-0.006054476369172335, -0.010293284431099892,...  \n",
       "3  [-0.004071803297847509, -0.0005756918690167367...  \n",
       "4  [0.011263073422014713, -0.003701198846101761, ...  "
      ]
     },
     "execution_count": 14,
     "metadata": {},
     "output_type": "execute_result"
    }
   ],
   "source": [
    "df.head()"
   ]
  },
  {
   "cell_type": "code",
   "execution_count": 250,
   "id": "c2a40ae0",
   "metadata": {},
   "outputs": [],
   "source": [
    "result = df.to_json(force_ascii=False, orient = 'records')"
   ]
  },
  {
   "cell_type": "code",
   "execution_count": 251,
   "id": "5c62d140",
   "metadata": {},
   "outputs": [],
   "source": [
    "output = json.loads(result)"
   ]
  },
  {
   "cell_type": "code",
   "execution_count": 252,
   "id": "96406770",
   "metadata": {},
   "outputs": [],
   "source": [
    "with open('./data_medical_embedding2.json', 'w', encoding='utf-8') as outfile:\n",
    "    json.dump(output, outfile , ensure_ascii=False, indent=4)"
   ]
  },
  {
   "cell_type": "code",
   "execution_count": 74,
   "id": "10fc6b22",
   "metadata": {},
   "outputs": [],
   "source": [
    "import chromadb\n",
    "\n",
    "chroma_client = chromadb.Client()"
   ]
  },
  {
   "cell_type": "code",
   "execution_count": 75,
   "id": "f426f69a",
   "metadata": {},
   "outputs": [
    {
     "name": "stdout",
     "output_type": "stream",
     "text": [
      "OPENAI_API_KEY is ready\n"
     ]
    }
   ],
   "source": [
    "from chromadb.utils.embedding_functions import OpenAIEmbeddingFunction\n",
    "\n",
    "# Test that your OpenAI API key is correctly set as an environment variable\n",
    "# Note. if you run this notebook locally, you will need to reload your terminal and the notebook for the env variables to be live.\n",
    "\n",
    "# Note. alternatively you can set a temporary env variable like this:\n",
    "# os.environ[\"OPENAI_API_KEY\"] = 'sk-xxxxxxxxxxxxxxxxxxxxxxxxxxxxxxxxxxxxxxxx'\n",
    "\n",
    "if os.getenv(\"OPENAI_API_KEY\") is not None:\n",
    "    openai.api_key = os.getenv(\"OPENAI_API_KEY\")\n",
    "    print (\"OPENAI_API_KEY is ready\")\n",
    "else:\n",
    "    print (\"OPENAI_API_KEY environment variable not found\")\n",
    "\n",
    "\n",
    "embedding_function = OpenAIEmbeddingFunction(api_key=os.environ.get('OPENAI_API_KEY'), model_name='text-embedding-ada-002')\n",
    "\n",
    "medical_question_collection = chroma_client.create_collection(name='medical_question', embedding_function=embedding_function)\n",
    "medical_answer_collection = chroma_client.create_collection(name='medical_answer', embedding_function=embedding_function)"
   ]
  },
  {
   "cell_type": "code",
   "execution_count": 105,
   "id": "50fb286f",
   "metadata": {},
   "outputs": [],
   "source": [
    "df = df.astype({'vector_id':'str'})"
   ]
  },
  {
   "cell_type": "code",
   "execution_count": 122,
   "id": "3e2cea34",
   "metadata": {},
   "outputs": [],
   "source": [
    "batch_size = 166\n",
    "chunks = [df[i:i + batch_size] for i in range(0, len(df), batch_size)]\n",
    "\n",
    "# Add the content vectors in batches\n",
    "for chunk in chunks:\n",
    "    medical_question_collection.add(\n",
    "        ids=chunk['vector_id'].tolist(),\n",
    "        embeddings=chunk['question_vector'].tolist(),  # Assuming you have the 'question_vector' column\n",
    "    )\n",
    "\n",
    "# Assuming you have your medical_answer_collection and answer_vector ready\n",
    "\n",
    "# Add the title vectors in batches\n",
    "for chunk in chunks:\n",
    "    medical_answer_collection.add(\n",
    "        ids=chunk['vector_id'].tolist(),\n",
    "        embeddings=chunk['answer_vector'].tolist(),  # Assuming you have the 'answer_vector' column\n",
    "    )"
   ]
  },
  {
   "cell_type": "code",
   "execution_count": 209,
   "id": "fe8e97ce",
   "metadata": {},
   "outputs": [],
   "source": [
    "def query_collection(collection, query, max_results, dataframe):\n",
    "    results = collection.query(query_texts=query, n_results=max_results, include=['distances']) \n",
    "    df = pd.DataFrame({\n",
    "                'id':results['ids'][0], \n",
    "                'score':results['distances'][0],\n",
    "                'question': dataframe[dataframe.vector_id.isin(results['ids'][0])]['question'],\n",
    "                'answer': dataframe[dataframe.vector_id.isin(results['ids'][0])]['answer'],\n",
    "                })\n",
    "    return df"
   ]
  },
  {
   "cell_type": "code",
   "execution_count": 219,
   "id": "acb437dd",
   "metadata": {},
   "outputs": [],
   "source": [
    "LLM_MODEL = os.getenv(\"LLM_MODEL\", os.getenv(\"OPENAI_API_MODEL\", \"gpt-3.5-turbo\")).lower()\n",
    "OPENAI_TEMPERATURE = float(os.getenv(\"OPENAI_TEMPERATURE\", 0.0))\n"
   ]
  },
  {
   "cell_type": "code",
   "execution_count": 244,
   "id": "2e712b42",
   "metadata": {},
   "outputs": [],
   "source": [
    "def openai_call(\n",
    "    system_prompt: str,\n",
    "    prompt: str,\n",
    "    model: str = LLM_MODEL,\n",
    "    temperature: float = OPENAI_TEMPERATURE,\n",
    "    max_tokens: int = 100,\n",
    "):\n",
    "    while True:\n",
    "        try:\n",
    "            if not model.lower().startswith(\"gpt-\"):\n",
    "                # Use completion API\n",
    "                response = openai.Completion.create(\n",
    "                    engine=model,\n",
    "                    prompt=prompt,\n",
    "                    temperature=temperature,\n",
    "                    max_tokens=max_tokens,\n",
    "                    top_p=1,\n",
    "                    frequency_penalty=0,\n",
    "                    presence_penalty=0,\n",
    "                )\n",
    "                return response.choices[0].text.strip()\n",
    "            else:\n",
    "                # Use 4000 instead of the real limit (4097) to give a bit of wiggle room for the encoding of roles.\n",
    "                # TODO: different limits for different models.\n",
    "\n",
    "                trimmed_prompt = limit_tokens_from_string(prompt, model, 4000 - max_tokens)\n",
    "\n",
    "                # Use chat completion API\n",
    "                messages = [{\"role\": \"system\" , \"content\": system_prompt},{\"role\": \"system\", \"content\": trimmed_prompt}]\n",
    "                response = openai.ChatCompletion.create(\n",
    "                    model='gpt-3.5-turbo',\n",
    "                    messages=messages,\n",
    "                    temperature=temperature,\n",
    "                    max_tokens=2000,\n",
    "                    n=1,\n",
    "                    stop=None,\n",
    "                )    \n",
    "                return response.choices[0].message.content.strip()\n",
    "        except openai.error.RateLimitError:\n",
    "            print(\n",
    "                \"   *** The OpenAI API rate limit has been exceeded. Waiting 10 seconds and trying again. ***\"\n",
    "            )\n",
    "            time.sleep(10)  # Wait 10 seconds and try again\n",
    "        except openai.error.Timeout:\n",
    "            print(\n",
    "                \"   *** OpenAI API timeout occurred. Waiting 10 seconds and trying again. ***\"\n",
    "            )\n",
    "            time.sleep(10)  # Wait 10 seconds and try again\n",
    "        except openai.error.APIError:\n",
    "            print(\n",
    "                \"   *** OpenAI API error occurred. Waiting 10 seconds and trying again. ***\"\n",
    "            )\n",
    "            time.sleep(10)  # Wait 10 seconds and try again\n",
    "        except openai.error.APIConnectionError:\n",
    "            print(\n",
    "                \"   *** OpenAI API connection error occurred. Check your network settings, proxy configuration, SSL certificates, or firewall rules. Waiting 10 seconds and trying again. ***\"\n",
    "            )\n",
    "            time.sleep(10)  # Wait 10 seconds and try again\n",
    "        except openai.error.InvalidRequestError:\n",
    "            print(\n",
    "                \"   *** OpenAI API invalid request. Check the documentation for the specific API method you are calling and make sure you are sending valid and complete parameters. Waiting 10 seconds and trying again. ***\"\n",
    "            )\n",
    "            time.sleep(10)  # Wait 10 seconds and try again\n",
    "        except openai.error.ServiceUnavailableError:\n",
    "            print(\n",
    "                \"   *** OpenAI API service unavailable. Waiting 10 seconds and trying again. ***\"\n",
    "            )\n",
    "            time.sleep(10)  # Wait 10 seconds and try again\n",
    "        else:\n",
    "            break"
   ]
  },
  {
   "cell_type": "code",
   "execution_count": 201,
   "id": "8084f60d",
   "metadata": {},
   "outputs": [],
   "source": [
    "import tiktoken as tiktoken\n",
    "import time\n",
    "\n",
    "\n",
    "def limit_tokens_from_string(string: str, model: str, limit: int) -> str:\n",
    "    \"\"\"Limits the string to a number of tokens (estimated).\"\"\"\n",
    "\n",
    "    try:\n",
    "        encoding = tiktoken.encoding_for_model(model)\n",
    "    except:\n",
    "        encoding = tiktoken.encoding_for_model('gpt2')  # Fallback for others.\n",
    "\n",
    "    encoded = encoding.encode(string)\n",
    "\n",
    "    return encoding.decode(encoded[:limit])"
   ]
  },
  {
   "cell_type": "code",
   "execution_count": null,
   "metadata": {},
   "outputs": [],
   "source": []
  },
  {
   "cell_type": "code",
   "execution_count": 257,
   "id": "a98b9c43",
   "metadata": {},
   "outputs": [],
   "source": [
    "question = '국소전립선암에서 방사선 치료의 역할은?'"
   ]
  },
  {
   "cell_type": "code",
   "execution_count": 258,
   "id": "05a2e2be",
   "metadata": {},
   "outputs": [
    {
     "name": "stdout",
     "output_type": "stream",
     "text": [
      "question: 국소전립선암에서 방사선 치료의 역할은?  answer: 방사선 치료 또한 전립선암을 완치하기 위한 일차 치료법입니다. 방사선 치료의 목적은 전립선에 방사선을 조사하여 세포손상을 유발하여 전립선 내에 있는 암세포를 죽이는 것입니다. 치료 기술의 발전에 힘입어 방사선 치료는 현재 국소 전립선암에 대한 효과적인 치료 방법으로 자리잡고 있습니다. /n question: 국소전립선암의 방사선 치료는 어떠한 방법이 있는지요? answer: 방사선 치료는 외부방사선치료 (external beam radiation therapy; EBRT) 혹은 근접방사선치료 (brachytherapy)로 시행될 수 있습니다. 치료 기술의 발전에 힘입어 방사선 치료는 현재 국소 전립선암에 대한 효과적인 치료 방법으로 자리잡고 있습니다. /n question: 국소전립선암에서 근치적 전립선적출술의 역할은 ?  answer: 현재까지 국소 전립선암에서 보존적 치료와 비교하여 전향적, 무작위 배정 연구에서 유일하게 암으로 사망할 확률에 낮춘 명백한 증거를 보인 치료법은 수술 방법에 상관없이 근치적 전립선적출술 뿐입니다. 또한 아직 어떠한 비수술적 치료에서도 수술적 치료 보다 높은 치료 성적을 보인 명백한 증거는 없습니다. /n \n"
     ]
    }
   ],
   "source": [
    "title_query_result = query_collection(\n",
    "    collection=medical_question_collection,\n",
    "    query=question,\n",
    "    max_results=3,\n",
    "    dataframe=df\n",
    ")\n",
    "qa_list= [ ]\n",
    "qa_set = ''\n",
    "question_list = title_query_result.question\n",
    "answer_list = title_query_result.answer\n",
    "for q, a  in zip(question_list,answer_list):\n",
    "    qa_set += \"question: {} answer: {} /n \".format(q, a)\n",
    "    # qa_list.append(\"question: {} answer: {}\".format(q, a))\n",
    "print(qa_set)"
   ]
  },
  {
   "cell_type": "code",
   "execution_count": 249,
   "id": "89996cdc",
   "metadata": {},
   "outputs": [
    {
     "name": "stdout",
     "output_type": "stream",
     "text": [
      "적극적 관찰을 시행한 경우 예후(생존률) 등에 대한 장기 추적 관찰 결과나 표준 치료법과의 무작위 비교 연구 결과가 없습니다. 따라서, 적극적 관찰은 매우 진행의 위험도가 낮은 일부 환자에서 시험적으로 시행되며, 주기적인 전립선특이항원 수치 검사와 전립선 조직검사를 받아야 하는 불편함과 불안감을 동반합니다.\n"
     ]
    }
   ],
   "source": [
    "import openai\n",
    "system_prompt = \"you are an AI Docter\"\n",
    "prompt = f\"\"\"\n",
    "        Provide an appropriate answer to the question based on the given Question-Answer set \\n\n",
    "\n",
    "        Question: \n",
    "            `\n",
    "                {question}\n",
    "            `\n",
    "\n",
    "        Qusetion-Answer Set\n",
    "            `   \n",
    "                {qa_set}\n",
    "            `\n",
    "        \"\"\"\n",
    "response = openai_call(system_prompt, prompt, max_tokens=2000)\n",
    "print(response)"
   ]
  }
 ],
 "metadata": {
  "kernelspec": {
   "display_name": "Python 3 (ipykernel)",
   "language": "python",
   "name": "python3"
  },
  "language_info": {
   "codemirror_mode": {
    "name": "ipython",
    "version": 3
   },
   "file_extension": ".py",
   "mimetype": "text/x-python",
   "name": "python",
   "nbconvert_exporter": "python",
   "pygments_lexer": "ipython3",
   "version": "3.8.10"
  }
 },
 "nbformat": 4,
 "nbformat_minor": 5
}
